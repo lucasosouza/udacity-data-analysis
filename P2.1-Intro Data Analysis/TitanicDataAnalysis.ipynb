{
 "cells": [
  {
   "cell_type": "code",
   "execution_count": 1,
   "metadata": {
    "collapsed": false,
    "scrolled": true
   },
   "outputs": [
    {
     "name": "stderr",
     "output_type": "stream",
     "text": [
      ":0: FutureWarning: IPython widgets are experimental and may change in the future.\n"
     ]
    }
   ],
   "source": [
    "import pandas as pd\n",
    "import numpy as np\n",
    "import seaborn as sns\n",
    "from scipy import stats\n",
    "from pprint import pprint\n",
    "import matplotlib.pylab as plt\n",
    "import re"
   ]
  },
  {
   "cell_type": "code",
   "execution_count": 2,
   "metadata": {
    "collapsed": true
   },
   "outputs": [],
   "source": [
    "%matplotlib inline\n",
    "sns.set(style=\"ticks\", color_codes=True, font_scale=1.1)"
   ]
  },
  {
   "cell_type": "markdown",
   "metadata": {},
   "source": [
    "## Introduction"
   ]
  },
  {
   "cell_type": "markdown",
   "metadata": {},
   "source": [
    "I will analyze the data for Titanic survivors, published as a Kaggle competition few years back, and widely known in the data science community. As a starter, I will raise a few questions that I will answer with data along the exploration:\n",
    "* What is the age distribution distribution of the passengers?\n",
    "* How many different families were on board?\n",
    "* Was there a predominance of single passengers or large families?\n",
    "* What was the average fare for each class?\n",
    "* How does each variable impact on the chance of surviving?\n",
    "\n",
    "The last question is the most relevant, being the original goal of the Kaggle challenge to use this data to predict the chance of a passenger surviving the tragedy, and will be the underlying theme for the data exploration process. "
   ]
  },
  {
   "cell_type": "markdown",
   "metadata": {},
   "source": [
    "## Data Overview"
   ]
  },
  {
   "cell_type": "code",
   "execution_count": 3,
   "metadata": {
    "collapsed": true
   },
   "outputs": [],
   "source": [
    "# read csv into a dataframe\n",
    "df = pd.read_csv(\"titanic_data.csv\")"
   ]
  },
  {
   "cell_type": "code",
   "execution_count": 4,
   "metadata": {
    "collapsed": false
   },
   "outputs": [
    {
     "data": {
      "text/html": [
       "<div>\n",
       "<table border=\"1\" class=\"dataframe\">\n",
       "  <thead>\n",
       "    <tr style=\"text-align: right;\">\n",
       "      <th></th>\n",
       "      <th>PassengerId</th>\n",
       "      <th>Survived</th>\n",
       "      <th>Pclass</th>\n",
       "      <th>Name</th>\n",
       "      <th>Sex</th>\n",
       "      <th>Age</th>\n",
       "      <th>SibSp</th>\n",
       "      <th>Parch</th>\n",
       "      <th>Ticket</th>\n",
       "      <th>Fare</th>\n",
       "      <th>Cabin</th>\n",
       "      <th>Embarked</th>\n",
       "    </tr>\n",
       "  </thead>\n",
       "  <tbody>\n",
       "    <tr>\n",
       "      <th>0</th>\n",
       "      <td>1</td>\n",
       "      <td>0</td>\n",
       "      <td>3</td>\n",
       "      <td>Braund, Mr. Owen Harris</td>\n",
       "      <td>male</td>\n",
       "      <td>22.0</td>\n",
       "      <td>1</td>\n",
       "      <td>0</td>\n",
       "      <td>A/5 21171</td>\n",
       "      <td>7.2500</td>\n",
       "      <td>NaN</td>\n",
       "      <td>S</td>\n",
       "    </tr>\n",
       "    <tr>\n",
       "      <th>1</th>\n",
       "      <td>2</td>\n",
       "      <td>1</td>\n",
       "      <td>1</td>\n",
       "      <td>Cumings, Mrs. John Bradley (Florence Briggs Th...</td>\n",
       "      <td>female</td>\n",
       "      <td>38.0</td>\n",
       "      <td>1</td>\n",
       "      <td>0</td>\n",
       "      <td>PC 17599</td>\n",
       "      <td>71.2833</td>\n",
       "      <td>C85</td>\n",
       "      <td>C</td>\n",
       "    </tr>\n",
       "    <tr>\n",
       "      <th>2</th>\n",
       "      <td>3</td>\n",
       "      <td>1</td>\n",
       "      <td>3</td>\n",
       "      <td>Heikkinen, Miss. Laina</td>\n",
       "      <td>female</td>\n",
       "      <td>26.0</td>\n",
       "      <td>0</td>\n",
       "      <td>0</td>\n",
       "      <td>STON/O2. 3101282</td>\n",
       "      <td>7.9250</td>\n",
       "      <td>NaN</td>\n",
       "      <td>S</td>\n",
       "    </tr>\n",
       "    <tr>\n",
       "      <th>3</th>\n",
       "      <td>4</td>\n",
       "      <td>1</td>\n",
       "      <td>1</td>\n",
       "      <td>Futrelle, Mrs. Jacques Heath (Lily May Peel)</td>\n",
       "      <td>female</td>\n",
       "      <td>35.0</td>\n",
       "      <td>1</td>\n",
       "      <td>0</td>\n",
       "      <td>113803</td>\n",
       "      <td>53.1000</td>\n",
       "      <td>C123</td>\n",
       "      <td>S</td>\n",
       "    </tr>\n",
       "    <tr>\n",
       "      <th>4</th>\n",
       "      <td>5</td>\n",
       "      <td>0</td>\n",
       "      <td>3</td>\n",
       "      <td>Allen, Mr. William Henry</td>\n",
       "      <td>male</td>\n",
       "      <td>35.0</td>\n",
       "      <td>0</td>\n",
       "      <td>0</td>\n",
       "      <td>373450</td>\n",
       "      <td>8.0500</td>\n",
       "      <td>NaN</td>\n",
       "      <td>S</td>\n",
       "    </tr>\n",
       "  </tbody>\n",
       "</table>\n",
       "</div>"
      ],
      "text/plain": [
       "   PassengerId  Survived  Pclass  \\\n",
       "0            1         0       3   \n",
       "1            2         1       1   \n",
       "2            3         1       3   \n",
       "3            4         1       1   \n",
       "4            5         0       3   \n",
       "\n",
       "                                                Name     Sex   Age  SibSp  \\\n",
       "0                            Braund, Mr. Owen Harris    male  22.0      1   \n",
       "1  Cumings, Mrs. John Bradley (Florence Briggs Th...  female  38.0      1   \n",
       "2                             Heikkinen, Miss. Laina  female  26.0      0   \n",
       "3       Futrelle, Mrs. Jacques Heath (Lily May Peel)  female  35.0      1   \n",
       "4                           Allen, Mr. William Henry    male  35.0      0   \n",
       "\n",
       "   Parch            Ticket     Fare Cabin Embarked  \n",
       "0      0         A/5 21171   7.2500   NaN        S  \n",
       "1      0          PC 17599  71.2833   C85        C  \n",
       "2      0  STON/O2. 3101282   7.9250   NaN        S  \n",
       "3      0            113803  53.1000  C123        S  \n",
       "4      0            373450   8.0500   NaN        S  "
      ]
     },
     "execution_count": 4,
     "metadata": {},
     "output_type": "execute_result"
    }
   ],
   "source": [
    "df.head()"
   ]
  },
  {
   "cell_type": "code",
   "execution_count": 5,
   "metadata": {
    "collapsed": false
   },
   "outputs": [
    {
     "data": {
      "text/html": [
       "<div>\n",
       "<table border=\"1\" class=\"dataframe\">\n",
       "  <thead>\n",
       "    <tr style=\"text-align: right;\">\n",
       "      <th></th>\n",
       "      <th>Survived</th>\n",
       "      <th>Pclass</th>\n",
       "      <th>Name</th>\n",
       "      <th>Sex</th>\n",
       "      <th>Age</th>\n",
       "      <th>SibSp</th>\n",
       "      <th>Parch</th>\n",
       "      <th>Ticket</th>\n",
       "      <th>Fare</th>\n",
       "      <th>Cabin</th>\n",
       "      <th>Embarked</th>\n",
       "    </tr>\n",
       "    <tr>\n",
       "      <th>PassengerId</th>\n",
       "      <th></th>\n",
       "      <th></th>\n",
       "      <th></th>\n",
       "      <th></th>\n",
       "      <th></th>\n",
       "      <th></th>\n",
       "      <th></th>\n",
       "      <th></th>\n",
       "      <th></th>\n",
       "      <th></th>\n",
       "      <th></th>\n",
       "    </tr>\n",
       "  </thead>\n",
       "  <tbody>\n",
       "    <tr>\n",
       "      <th>1</th>\n",
       "      <td>0</td>\n",
       "      <td>3</td>\n",
       "      <td>Braund, Mr. Owen Harris</td>\n",
       "      <td>male</td>\n",
       "      <td>22.0</td>\n",
       "      <td>1</td>\n",
       "      <td>0</td>\n",
       "      <td>A/5 21171</td>\n",
       "      <td>7.2500</td>\n",
       "      <td>NaN</td>\n",
       "      <td>S</td>\n",
       "    </tr>\n",
       "    <tr>\n",
       "      <th>2</th>\n",
       "      <td>1</td>\n",
       "      <td>1</td>\n",
       "      <td>Cumings, Mrs. John Bradley (Florence Briggs Th...</td>\n",
       "      <td>female</td>\n",
       "      <td>38.0</td>\n",
       "      <td>1</td>\n",
       "      <td>0</td>\n",
       "      <td>PC 17599</td>\n",
       "      <td>71.2833</td>\n",
       "      <td>C85</td>\n",
       "      <td>C</td>\n",
       "    </tr>\n",
       "    <tr>\n",
       "      <th>3</th>\n",
       "      <td>1</td>\n",
       "      <td>3</td>\n",
       "      <td>Heikkinen, Miss. Laina</td>\n",
       "      <td>female</td>\n",
       "      <td>26.0</td>\n",
       "      <td>0</td>\n",
       "      <td>0</td>\n",
       "      <td>STON/O2. 3101282</td>\n",
       "      <td>7.9250</td>\n",
       "      <td>NaN</td>\n",
       "      <td>S</td>\n",
       "    </tr>\n",
       "    <tr>\n",
       "      <th>4</th>\n",
       "      <td>1</td>\n",
       "      <td>1</td>\n",
       "      <td>Futrelle, Mrs. Jacques Heath (Lily May Peel)</td>\n",
       "      <td>female</td>\n",
       "      <td>35.0</td>\n",
       "      <td>1</td>\n",
       "      <td>0</td>\n",
       "      <td>113803</td>\n",
       "      <td>53.1000</td>\n",
       "      <td>C123</td>\n",
       "      <td>S</td>\n",
       "    </tr>\n",
       "    <tr>\n",
       "      <th>5</th>\n",
       "      <td>0</td>\n",
       "      <td>3</td>\n",
       "      <td>Allen, Mr. William Henry</td>\n",
       "      <td>male</td>\n",
       "      <td>35.0</td>\n",
       "      <td>0</td>\n",
       "      <td>0</td>\n",
       "      <td>373450</td>\n",
       "      <td>8.0500</td>\n",
       "      <td>NaN</td>\n",
       "      <td>S</td>\n",
       "    </tr>\n",
       "  </tbody>\n",
       "</table>\n",
       "</div>"
      ],
      "text/plain": [
       "             Survived  Pclass  \\\n",
       "PassengerId                     \n",
       "1                   0       3   \n",
       "2                   1       1   \n",
       "3                   1       3   \n",
       "4                   1       1   \n",
       "5                   0       3   \n",
       "\n",
       "                                                          Name     Sex   Age  \\\n",
       "PassengerId                                                                    \n",
       "1                                      Braund, Mr. Owen Harris    male  22.0   \n",
       "2            Cumings, Mrs. John Bradley (Florence Briggs Th...  female  38.0   \n",
       "3                                       Heikkinen, Miss. Laina  female  26.0   \n",
       "4                 Futrelle, Mrs. Jacques Heath (Lily May Peel)  female  35.0   \n",
       "5                                     Allen, Mr. William Henry    male  35.0   \n",
       "\n",
       "             SibSp  Parch            Ticket     Fare Cabin Embarked  \n",
       "PassengerId                                                          \n",
       "1                1      0         A/5 21171   7.2500   NaN        S  \n",
       "2                1      0          PC 17599  71.2833   C85        C  \n",
       "3                0      0  STON/O2. 3101282   7.9250   NaN        S  \n",
       "4                1      0            113803  53.1000  C123        S  \n",
       "5                0      0            373450   8.0500   NaN        S  "
      ]
     },
     "execution_count": 5,
     "metadata": {},
     "output_type": "execute_result"
    }
   ],
   "source": [
    "# setting passenger id to be the index\n",
    "df = df.set_index('PassengerId')\n",
    "df.head()"
   ]
  },
  {
   "cell_type": "code",
   "execution_count": 6,
   "metadata": {
    "collapsed": false
   },
   "outputs": [
    {
     "data": {
      "text/plain": [
       "Survived      int64\n",
       "Pclass        int64\n",
       "Name         object\n",
       "Sex          object\n",
       "Age         float64\n",
       "SibSp         int64\n",
       "Parch         int64\n",
       "Ticket       object\n",
       "Fare        float64\n",
       "Cabin        object\n",
       "Embarked     object\n",
       "dtype: object"
      ]
     },
     "execution_count": 6,
     "metadata": {},
     "output_type": "execute_result"
    }
   ],
   "source": [
    "# showing data types\n",
    "df.dtypes"
   ]
  },
  {
   "cell_type": "code",
   "execution_count": 7,
   "metadata": {
    "collapsed": false
   },
   "outputs": [
    {
     "data": {
      "text/html": [
       "<div>\n",
       "<table border=\"1\" class=\"dataframe\">\n",
       "  <thead>\n",
       "    <tr style=\"text-align: right;\">\n",
       "      <th></th>\n",
       "      <th>Survived</th>\n",
       "      <th>Pclass</th>\n",
       "      <th>Age</th>\n",
       "      <th>SibSp</th>\n",
       "      <th>Parch</th>\n",
       "      <th>Fare</th>\n",
       "    </tr>\n",
       "  </thead>\n",
       "  <tbody>\n",
       "    <tr>\n",
       "      <th>count</th>\n",
       "      <td>891.000000</td>\n",
       "      <td>891.000000</td>\n",
       "      <td>714.000000</td>\n",
       "      <td>891.000000</td>\n",
       "      <td>891.000000</td>\n",
       "      <td>891.000000</td>\n",
       "    </tr>\n",
       "    <tr>\n",
       "      <th>mean</th>\n",
       "      <td>0.383838</td>\n",
       "      <td>2.308642</td>\n",
       "      <td>29.699118</td>\n",
       "      <td>0.523008</td>\n",
       "      <td>0.381594</td>\n",
       "      <td>32.204208</td>\n",
       "    </tr>\n",
       "    <tr>\n",
       "      <th>std</th>\n",
       "      <td>0.486592</td>\n",
       "      <td>0.836071</td>\n",
       "      <td>14.526497</td>\n",
       "      <td>1.102743</td>\n",
       "      <td>0.806057</td>\n",
       "      <td>49.693429</td>\n",
       "    </tr>\n",
       "    <tr>\n",
       "      <th>min</th>\n",
       "      <td>0.000000</td>\n",
       "      <td>1.000000</td>\n",
       "      <td>0.420000</td>\n",
       "      <td>0.000000</td>\n",
       "      <td>0.000000</td>\n",
       "      <td>0.000000</td>\n",
       "    </tr>\n",
       "    <tr>\n",
       "      <th>25%</th>\n",
       "      <td>0.000000</td>\n",
       "      <td>2.000000</td>\n",
       "      <td>20.125000</td>\n",
       "      <td>0.000000</td>\n",
       "      <td>0.000000</td>\n",
       "      <td>7.910400</td>\n",
       "    </tr>\n",
       "    <tr>\n",
       "      <th>50%</th>\n",
       "      <td>0.000000</td>\n",
       "      <td>3.000000</td>\n",
       "      <td>28.000000</td>\n",
       "      <td>0.000000</td>\n",
       "      <td>0.000000</td>\n",
       "      <td>14.454200</td>\n",
       "    </tr>\n",
       "    <tr>\n",
       "      <th>75%</th>\n",
       "      <td>1.000000</td>\n",
       "      <td>3.000000</td>\n",
       "      <td>38.000000</td>\n",
       "      <td>1.000000</td>\n",
       "      <td>0.000000</td>\n",
       "      <td>31.000000</td>\n",
       "    </tr>\n",
       "    <tr>\n",
       "      <th>max</th>\n",
       "      <td>1.000000</td>\n",
       "      <td>3.000000</td>\n",
       "      <td>80.000000</td>\n",
       "      <td>8.000000</td>\n",
       "      <td>6.000000</td>\n",
       "      <td>512.329200</td>\n",
       "    </tr>\n",
       "  </tbody>\n",
       "</table>\n",
       "</div>"
      ],
      "text/plain": [
       "         Survived      Pclass         Age       SibSp       Parch        Fare\n",
       "count  891.000000  891.000000  714.000000  891.000000  891.000000  891.000000\n",
       "mean     0.383838    2.308642   29.699118    0.523008    0.381594   32.204208\n",
       "std      0.486592    0.836071   14.526497    1.102743    0.806057   49.693429\n",
       "min      0.000000    1.000000    0.420000    0.000000    0.000000    0.000000\n",
       "25%      0.000000    2.000000   20.125000    0.000000    0.000000    7.910400\n",
       "50%      0.000000    3.000000   28.000000    0.000000    0.000000   14.454200\n",
       "75%      1.000000    3.000000   38.000000    1.000000    0.000000   31.000000\n",
       "max      1.000000    3.000000   80.000000    8.000000    6.000000  512.329200"
      ]
     },
     "execution_count": 7,
     "metadata": {},
     "output_type": "execute_result"
    }
   ],
   "source": [
    "df.describe()"
   ]
  },
  {
   "cell_type": "markdown",
   "metadata": {},
   "source": [
    "The describe function answers the 1st question we raised regarding the passengers' age distribution. We can see that the mean age is 29 years old, with a standard deviation of 14 years, a min of 0.4 (around 5 months old) and a max of 80. Most of the passengers are between 20 and 40 yers old. We can also see the distribution in a kernel density estimation:"
   ]
  },
  {
   "cell_type": "code",
   "execution_count": 8,
   "metadata": {
    "collapsed": false
   },
   "outputs": [
    {
     "name": "stderr",
     "output_type": "stream",
     "text": [
      "/Users/lucasosouza/anaconda/lib/python2.7/site-packages/matplotlib/collections.py:590: FutureWarning: elementwise comparison failed; returning scalar instead, but in the future will perform elementwise comparison\n",
      "  if self._edgecolors == str('face'):\n"
     ]
    },
    {
     "data": {
      "image/png": "[encoded data removed]",
      "text/plain": [
       "<matplotlib.figure.Figure at 0x10a9a82d0>"
      ]
     },
     "metadata": {},
     "output_type": "display_data"
    }
   ],
   "source": [
    "sns.kdeplot(df['Age'], shade=True);"
   ]
  },
  {
   "cell_type": "markdown",
   "metadata": {},
   "source": [
    "## Dealing with categorical variables"
   ]
  },
  {
   "cell_type": "markdown",
   "metadata": {},
   "source": [
    "I will take a look at categorical variables, and see how can we convert them into data that will give some relevant information for the analysis."
   ]
  },
  {
   "cell_type": "code",
   "execution_count": 9,
   "metadata": {
    "collapsed": false
   },
   "outputs": [
    {
     "data": {
      "text/plain": [
       "C23 C25 C27    4\n",
       "G6             4\n",
       "B96 B98        4\n",
       "D              3\n",
       "C22 C26        3\n",
       "Name: Cabin, dtype: int64"
      ]
     },
     "execution_count": 9,
     "metadata": {},
     "output_type": "execute_result"
    }
   ],
   "source": [
    "# show categories for categorical variables\n",
    "df['Cabin'].value_counts()[:5]"
   ]
  },
  {
   "cell_type": "markdown",
   "metadata": {},
   "source": [
    "Cabin per see has too much labels. It would be more useful if we can condense this information. The letter probably indicates position on the ship, which might a better indicator of class that Pclass variable, since it has more levels. This new variable will be ordinal, so I will represent as integers instead of actual letters."
   ]
  },
  {
   "cell_type": "code",
   "execution_count": 10,
   "metadata": {
    "collapsed": false
   },
   "outputs": [
    {
     "data": {
      "text/html": [
       "<div>\n",
       "<table border=\"1\" class=\"dataframe\">\n",
       "  <thead>\n",
       "    <tr style=\"text-align: right;\">\n",
       "      <th></th>\n",
       "      <th>Cclass</th>\n",
       "      <th>Cabin</th>\n",
       "    </tr>\n",
       "    <tr>\n",
       "      <th>PassengerId</th>\n",
       "      <th></th>\n",
       "      <th></th>\n",
       "    </tr>\n",
       "  </thead>\n",
       "  <tbody>\n",
       "    <tr>\n",
       "      <th>1</th>\n",
       "      <td>NaN</td>\n",
       "      <td>NaN</td>\n",
       "    </tr>\n",
       "    <tr>\n",
       "      <th>2</th>\n",
       "      <td>3.0</td>\n",
       "      <td>C85</td>\n",
       "    </tr>\n",
       "    <tr>\n",
       "      <th>3</th>\n",
       "      <td>NaN</td>\n",
       "      <td>NaN</td>\n",
       "    </tr>\n",
       "    <tr>\n",
       "      <th>4</th>\n",
       "      <td>3.0</td>\n",
       "      <td>C123</td>\n",
       "    </tr>\n",
       "    <tr>\n",
       "      <th>5</th>\n",
       "      <td>NaN</td>\n",
       "      <td>NaN</td>\n",
       "    </tr>\n",
       "  </tbody>\n",
       "</table>\n",
       "</div>"
      ],
      "text/plain": [
       "             Cclass Cabin\n",
       "PassengerId              \n",
       "1               NaN   NaN\n",
       "2               3.0   C85\n",
       "3               NaN   NaN\n",
       "4               3.0  C123\n",
       "5               NaN   NaN"
      ]
     },
     "execution_count": 10,
     "metadata": {},
     "output_type": "execute_result"
    }
   ],
   "source": [
    "def extract_cabin_class(cabin):\n",
    "    if pd.isnull(cabin):\n",
    "        return np.nan\n",
    "    return ord(str(cabin)[0]) - 64\n",
    "\n",
    "df['Cclass'] = df['Cabin'].apply(extract_cabin_class)\n",
    "df.ix[:5, ['Cclass', 'Cabin']]"
   ]
  },
  {
   "cell_type": "code",
   "execution_count": 11,
   "metadata": {
    "collapsed": false
   },
   "outputs": [
    {
     "data": {
      "text/plain": [
       "S    644\n",
       "C    168\n",
       "Q     77\n",
       "Name: Embarked, dtype: int64"
      ]
     },
     "execution_count": 11,
     "metadata": {},
     "output_type": "execute_result"
    }
   ],
   "source": [
    "df['Embarked'].value_counts()"
   ]
  },
  {
   "cell_type": "markdown",
   "metadata": {},
   "source": [
    "There is not much I can do with embarked as of now. It is a nominal value that represents the port of embarkation, so they have no natural order."
   ]
  },
  {
   "cell_type": "code",
   "execution_count": 12,
   "metadata": {
    "collapsed": false
   },
   "outputs": [
    {
     "data": {
      "text/plain": [
       "CA. 2343    7\n",
       "347082      7\n",
       "1601        7\n",
       "347088      6\n",
       "CA 2144     6\n",
       "Name: Ticket, dtype: int64"
      ]
     },
     "execution_count": 12,
     "metadata": {},
     "output_type": "execute_result"
    }
   ],
   "source": [
    "df['Ticket'].value_counts()[:5]"
   ]
  },
  {
   "cell_type": "markdown",
   "metadata": {},
   "source": [
    "There are also too much tickets, and no apparent order, so it is hard to convert them to a feature. But they can still be useful for prediction as it is. People with the same tickets probably indicates they are from the same family (or at least the same group), so chances of one of the groups members surviving might affect the rest of the group."
   ]
  },
  {
   "cell_type": "code",
   "execution_count": 13,
   "metadata": {
    "collapsed": false
   },
   "outputs": [
    {
     "data": {
      "text/plain": [
       "Graham, Mr. George Edward                              1\n",
       "Elias, Mr. Tannous                                     1\n",
       "Madill, Miss. Georgette Alexandra                      1\n",
       "Cumings, Mrs. John Bradley (Florence Briggs Thayer)    1\n",
       "Beane, Mrs. Edward (Ethel Clarke)                      1\n",
       "Name: Name, dtype: int64"
      ]
     },
     "execution_count": 13,
     "metadata": {},
     "output_type": "execute_result"
    }
   ],
   "source": [
    "df['Name'].value_counts()[:5]"
   ]
  },
  {
   "cell_type": "markdown",
   "metadata": {},
   "source": [
    "There are two useful informations in Name variable: the family names, and the honorific. Let's extract these two into different categorical variables. Family name will have a similar function of ticket, helping to group family members, while honorific is a symbol of social status (higher status can mean higher chance to survive)."
   ]
  },
  {
   "cell_type": "code",
   "execution_count": 14,
   "metadata": {
    "collapsed": false
   },
   "outputs": [
    {
     "data": {
      "text/html": [
       "<div>\n",
       "<table border=\"1\" class=\"dataframe\">\n",
       "  <thead>\n",
       "    <tr style=\"text-align: right;\">\n",
       "      <th></th>\n",
       "      <th>Name</th>\n",
       "      <th>Surname</th>\n",
       "      <th>Honorific</th>\n",
       "    </tr>\n",
       "    <tr>\n",
       "      <th>PassengerId</th>\n",
       "      <th></th>\n",
       "      <th></th>\n",
       "      <th></th>\n",
       "    </tr>\n",
       "  </thead>\n",
       "  <tbody>\n",
       "    <tr>\n",
       "      <th>1</th>\n",
       "      <td>Braund, Mr. Owen Harris</td>\n",
       "      <td>Braund</td>\n",
       "      <td>Mr</td>\n",
       "    </tr>\n",
       "    <tr>\n",
       "      <th>2</th>\n",
       "      <td>Cumings, Mrs. John Bradley (Florence Briggs Th...</td>\n",
       "      <td>Cumings</td>\n",
       "      <td>Mrs</td>\n",
       "    </tr>\n",
       "    <tr>\n",
       "      <th>3</th>\n",
       "      <td>Heikkinen, Miss. Laina</td>\n",
       "      <td>Heikkinen</td>\n",
       "      <td>Miss</td>\n",
       "    </tr>\n",
       "    <tr>\n",
       "      <th>4</th>\n",
       "      <td>Futrelle, Mrs. Jacques Heath (Lily May Peel)</td>\n",
       "      <td>Futrelle</td>\n",
       "      <td>Mrs</td>\n",
       "    </tr>\n",
       "    <tr>\n",
       "      <th>5</th>\n",
       "      <td>Allen, Mr. William Henry</td>\n",
       "      <td>Allen</td>\n",
       "      <td>Mr</td>\n",
       "    </tr>\n",
       "  </tbody>\n",
       "</table>\n",
       "</div>"
      ],
      "text/plain": [
       "                                                          Name    Surname  \\\n",
       "PassengerId                                                                 \n",
       "1                                      Braund, Mr. Owen Harris     Braund   \n",
       "2            Cumings, Mrs. John Bradley (Florence Briggs Th...    Cumings   \n",
       "3                                       Heikkinen, Miss. Laina  Heikkinen   \n",
       "4                 Futrelle, Mrs. Jacques Heath (Lily May Peel)   Futrelle   \n",
       "5                                     Allen, Mr. William Henry      Allen   \n",
       "\n",
       "            Honorific  \n",
       "PassengerId            \n",
       "1                  Mr  \n",
       "2                 Mrs  \n",
       "3                Miss  \n",
       "4                 Mrs  \n",
       "5                  Mr  "
      ]
     },
     "execution_count": 14,
     "metadata": {},
     "output_type": "execute_result"
    }
   ],
   "source": [
    "def extract_surname(name):\n",
    "    return name.split(',')[0]\n",
    "\n",
    "def extract_honorific(name):\n",
    "    try:\n",
    "        return re.search('(?<=, )M\\w*', name).group(0)\n",
    "    except: return np.nan\n",
    "\n",
    "df['Surname'] = df['Name'].apply(extract_surname)\n",
    "df['Honorific'] = df['Name'].apply(extract_honorific)\n",
    "df.ix[:5, ['Name', 'Surname', 'Honorific']]"
   ]
  },
  {
   "cell_type": "code",
   "execution_count": 15,
   "metadata": {
    "collapsed": false
   },
   "outputs": [
    {
     "data": {
      "text/plain": [
       "667"
      ]
     },
     "execution_count": 15,
     "metadata": {},
     "output_type": "execute_result"
    }
   ],
   "source": [
    "len(df['Surname'].value_counts())"
   ]
  },
  {
   "cell_type": "code",
   "execution_count": 16,
   "metadata": {
    "collapsed": false
   },
   "outputs": [
    {
     "data": {
      "text/plain": [
       "Mr        517\n",
       "Miss      182\n",
       "Mrs       125\n",
       "Master     40\n",
       "Major       2\n",
       "Mlle        2\n",
       "Ms          1\n",
       "Mme         1\n",
       "Name: Honorific, dtype: int64"
      ]
     },
     "execution_count": 16,
     "metadata": {},
     "output_type": "execute_result"
    }
   ],
   "source": [
    "# look at new categories\n",
    "df['Honorific'].value_counts()"
   ]
  },
  {
   "cell_type": "markdown",
   "metadata": {},
   "source": [
    "We now can answer our 2nd question: considering the dataset is complete, there were 667 different families onboard the Titanic."
   ]
  },
  {
   "cell_type": "markdown",
   "metadata": {},
   "source": [
    "## Dealing with null values"
   ]
  },
  {
   "cell_type": "code",
   "execution_count": 17,
   "metadata": {
    "collapsed": false
   },
   "outputs": [
    {
     "data": {
      "text/plain": [
       "Survived       0\n",
       "Pclass         0\n",
       "Name           0\n",
       "Sex            0\n",
       "Age          177\n",
       "SibSp          0\n",
       "Parch          0\n",
       "Ticket         0\n",
       "Fare           0\n",
       "Cabin        687\n",
       "Embarked       2\n",
       "Cclass       687\n",
       "Surname        0\n",
       "Honorific     21\n",
       "dtype: int64"
      ]
     },
     "execution_count": 17,
     "metadata": {},
     "output_type": "execute_result"
    }
   ],
   "source": [
    "# count na values\n",
    "df.isnull().sum()"
   ]
  },
  {
   "cell_type": "markdown",
   "metadata": {},
   "source": [
    "Age is an important information, so I will look only at variables which have Age data available. The Cclass column I will remove from the following analysis for now, since two thirds of the values are null. \n",
    "\n",
    "If the data is used for prediction, I can use imputation methods later to fill in the missing values, such as using the mean for age and the mode for Cclass. We could also use more advanced techniques such as multiple imputation to fill in the missing gaps."
   ]
  },
  {
   "cell_type": "code",
   "execution_count": 18,
   "metadata": {
    "collapsed": false
   },
   "outputs": [],
   "source": [
    "# remove entries with missing value for age\n",
    "df = df.dropna(subset=['Age'])"
   ]
  },
  {
   "cell_type": "code",
   "execution_count": 19,
   "metadata": {
    "collapsed": false
   },
   "outputs": [
    {
     "data": {
      "text/plain": [
       "Survived       0\n",
       "Pclass         0\n",
       "Name           0\n",
       "Sex            0\n",
       "Age            0\n",
       "SibSp          0\n",
       "Parch          0\n",
       "Ticket         0\n",
       "Fare           0\n",
       "Cabin        529\n",
       "Embarked       2\n",
       "Cclass       529\n",
       "Surname        0\n",
       "Honorific     20\n",
       "dtype: int64"
      ]
     },
     "execution_count": 19,
     "metadata": {},
     "output_type": "execute_result"
    }
   ],
   "source": [
    "df.isnull().sum()"
   ]
  },
  {
   "cell_type": "markdown",
   "metadata": {},
   "source": [
    "## Analyzing continuous and ordinal variables"
   ]
  },
  {
   "cell_type": "markdown",
   "metadata": {},
   "source": [
    "Let's analyze the data in three dimensions, plotting scatterplots of one variable against another, with the color encoding being the boolean variable Survived or not. These scatterplots will help us get a good grasp of any underlying patterns and correlations in the data, which we will refine later.\n",
    "\n",
    "Unfortunately, seaborn pairplots only show scatterplots, unlike ggpairs from GGally library (in R) that also handles categorical variables by showing boxplots, so in this section we will focus on continuous and ordinal variables that have been converted to number scale in the previous steps."
   ]
  },
  {
   "cell_type": "code",
   "execution_count": 20,
   "metadata": {
    "collapsed": false
   },
   "outputs": [
    {
     "data": {
      "text/plain": [
       "<seaborn.axisgrid.PairGrid at 0x10a9a8190>"
      ]
     },
     "execution_count": 20,
     "metadata": {},
     "output_type": "execute_result"
    },
    {
     "data": {
      "image/png": "[encoded data removed]",
      "text/plain": [
       "<matplotlib.figure.Figure at 0x10aa6e290>"
      ]
     },
     "metadata": {},
     "output_type": "display_data"
    }
   ],
   "source": [
    "cols = [c for c in df.select_dtypes(include=['int64', 'float64']).columns.difference(['Cclass'])]\n",
    "sns.pairplot(df[cols], size=2, hue=\"Survived\")\n",
    "# reference: seaborn docs at https://stanford.edu/~mwaskom/software/seaborn/examples/scatterplot_matrix.html"
   ]
  },
  {
   "cell_type": "markdown",
   "metadata": {},
   "source": [
    "A few things can be highlighted from the scatterplots, from top left to bottom right:\n",
    "- Older passengers in 3rd class were less likely to survive. We can speculate they were allocated into the lower parts of the ship, and having lower mobility had less chances of evacuating the ship\n",
    "- Larger families, with many siblings/spouses and parents/children in 3rd class were also less likely to survive. We can also assume these are due to the challenges in evacuating a large group of people from the lower parts of the ship\n",
    "- Although the effect of large families and old age are more proeminent in 3rd class, in general, as seen in the other distributions, older passengers and larger familiers were less likely to survive.\n",
    "- The fare for 2nd and 3rd class had little difference, while the fare for 1st class was up to 5x higher.\n",
    "- Younger passengers had more siblings/spouses and parent/children. Larger families were more concentrated in 3rd class. \n",
    "- The fare distribution is more or less equal amongst age. \n",
    "\n",
    "The analysis answers our 3rd question: the histogram for siblings/spouses and parents/children shows that most passengers had no family on board. It also gives a hint to the 4th question, regarding the average fare per class. Let's see it in detail:"
   ]
  },
  {
   "cell_type": "code",
   "execution_count": 21,
   "metadata": {
    "collapsed": false
   },
   "outputs": [
    {
     "data": {
      "text/plain": [
       "(Pclass\n",
       " 1    87.961582\n",
       " 2    21.471556\n",
       " 3    13.229435\n",
       " Name: Fare, dtype: float64, Pclass\n",
       " 1    512.3292\n",
       " 2     73.5000\n",
       " 3     56.4958\n",
       " Name: Fare, dtype: float64)"
      ]
     },
     "execution_count": 21,
     "metadata": {},
     "output_type": "execute_result"
    },
    {
     "data": {
      "image/png": "[encoded data removed]",
      "text/plain": [
       "<matplotlib.figure.Figure at 0x10e51eb50>"
      ]
     },
     "metadata": {},
     "output_type": "display_data"
    }
   ],
   "source": [
    "sns.violinplot(data=df, x='Pclass', y='Fare')\n",
    "plt.yticks(np.arange(0,300,15))\n",
    "plt.ylim(0,200)\n",
    "df.groupby('Pclass')['Fare'].mean(), df.groupby('Pclass')['Fare'].max()"
   ]
  },
  {
   "cell_type": "markdown",
   "metadata": {},
   "source": [
    "The average fare for 2nd and 3rd class are not so different, confirming our observation from the scatterplots. The prices are also more concentrated around the mean. On the other hand, 1st class tickets have an average 4x timers higher than 2nd class tickets, with a considerable number of outliers ranging from \\$200 to over $500.\n",
    "\n",
    "Moving on, I will plot a heatmap with the Pearson correlation coefficient between the variables:"
   ]
  },
  {
   "cell_type": "code",
   "execution_count": 22,
   "metadata": {
    "collapsed": false
   },
   "outputs": [
    {
     "data": {
      "image/png": "[encoded data removed]",
      "text/plain": [
       "<matplotlib.figure.Figure at 0x10f94ba10>"
      ]
     },
     "metadata": {},
     "output_type": "display_data"
    }
   ],
   "source": [
    "\"\"\"\n",
    "note: Pearson's R is not the ideal approach for calculating correlation between binary or ordinal variables,\n",
    "it is used here forward for simplicity and to have a rudimentary perspective on the data.\n",
    "References: http://stats.stackexchange.com/questions/103801/is-it-meaningful-to-calculate-pearson-or-spearman\n",
    "-correlation-between-two-boolea\n",
    "\"\"\"\n",
    "# reference: Python for Machine Learning book, chapter 11; seaborn docs\n",
    "\n",
    "cm = np.corrcoef(df[cols].values.T)\n",
    "plt.figure(figsize=(14, 7))\n",
    "hm = sns.heatmap(cm,\n",
    "                cbar=True,\n",
    "                annot=True,\n",
    "                square=True,\n",
    "                fmt='.2f',\n",
    "                annot_kws = {'size': 15},\n",
    "                yticklabels=cols,\n",
    "                xticklabels=cols)\n"
   ]
  },
  {
   "cell_type": "markdown",
   "metadata": {},
   "source": [
    "Some observations from the heatmap:\n",
    "\n",
    "* There is a high correlation between Siblings/Spouse and Parent/Children (0.41)\n",
    "* There is a minor correlation between Age and number of siblings/spouse and parent/children (-0.23 and -0.17), which ratificates our observation done by analyzing scatterplots that younger passengers had larger families. \n",
    "* Passenger class and Fare are inversely correlated (-0.55), which is expected - 1st class had the higher fares. \n",
    "* There is no significant correlation between Age and Fare (0.10), also confirming one of the previous observations.\n",
    "* Passenger class and Fare are good indicators of a passenger having survived or not, with -0.34 and 0.26 correlations respectively.\n"
   ]
  },
  {
   "cell_type": "markdown",
   "metadata": {},
   "source": [
    "## Analyzing nominal variables"
   ]
  },
  {
   "cell_type": "markdown",
   "metadata": {},
   "source": [
    "Let's take a more detailed look now at the categorical variables, including the ones we derived from the original data. I will particularly focus on how the categories have an impact on whether the passenger has survived or not. For that, I will use bar plots with color encodings."
   ]
  },
  {
   "cell_type": "code",
   "execution_count": 23,
   "metadata": {
    "collapsed": false
   },
   "outputs": [
    {
     "data": {
      "text/plain": [
       "<seaborn.axisgrid.FacetGrid at 0x10e5bd890>"
      ]
     },
     "execution_count": 23,
     "metadata": {},
     "output_type": "execute_result"
    },
    {
     "data": {
      "image/png": "[encoded data removed]",
      "text/plain": [
       "<matplotlib.figure.Figure at 0x10e5bd950>"
      ]
     },
     "metadata": {},
     "output_type": "display_data"
    }
   ],
   "source": [
    "# For each category, I will plot the number of people that perished and the number of people that survived side by side\n",
    "sns.factorplot(data=df, x='Sex', kind='count', hue='Survived', size=4)    "
   ]
  },
  {
   "cell_type": "markdown",
   "metadata": {},
   "source": [
    "Sex has a clear influence on whether the passenger survived or not. Women had a much higher chance of surviving than men aboard the Titanic. We can even go further and calculate the Pearson correlation between the variables, since they are both binary:"
   ]
  },
  {
   "cell_type": "code",
   "execution_count": 24,
   "metadata": {
    "collapsed": false
   },
   "outputs": [
    {
     "data": {
      "text/plain": [
       "(0.53882559301463551, 5.2247099268013592e-55)"
      ]
     },
     "execution_count": 24,
     "metadata": {},
     "output_type": "execute_result"
    }
   ],
   "source": [
    "# calculate Pearson's r\n",
    "bin_sex = df['Sex'] == 'female'\n",
    "stats.pearsonr(x=df['Survived'], y=bin_sex)"
   ]
  },
  {
   "cell_type": "markdown",
   "metadata": {},
   "source": [
    "The correlation between them is 0.54, with a 2-tailed p-value of 1.406e-69, which is very low. Considering a significance level alpha of 0.05, we can conclude that the correlation between Sex and Survived variables is different than 0.  "
   ]
  },
  {
   "cell_type": "code",
   "execution_count": 25,
   "metadata": {
    "collapsed": false
   },
   "outputs": [
    {
     "data": {
      "text/plain": [
       "<seaborn.axisgrid.FacetGrid at 0x10a9f1050>"
      ]
     },
     "execution_count": 25,
     "metadata": {},
     "output_type": "execute_result"
    },
    {
     "data": {
      "image/png": "[encoded data removed]",
      "text/plain": [
       "<matplotlib.figure.Figure at 0x10a9f1190>"
      ]
     },
     "metadata": {},
     "output_type": "display_data"
    }
   ],
   "source": [
    "sns.factorplot(data=df, x='Embarked', kind='count', hue='Survived', size=4)    "
   ]
  },
  {
   "cell_type": "markdown",
   "metadata": {},
   "source": [
    "In Embarked we can also see significant results. Embarked refers to the port where the passenger embarked (C = Cherbourg; Q = Queenstown; S = Southampton). Passengers who embarked in Cherbourg were more likely to survive than passengers who have embarked in either Queenstown and Southampton. Here again let's test the correlation."
   ]
  },
  {
   "cell_type": "code",
   "execution_count": 26,
   "metadata": {
    "collapsed": false
   },
   "outputs": [
    {
     "data": {
      "text/plain": [
       "(0.19360693204683369, 1.8513925808257593e-07)"
      ]
     },
     "execution_count": 26,
     "metadata": {},
     "output_type": "execute_result"
    }
   ],
   "source": [
    "# create a new variable, true or false, for passengers who embarked in Cherbourg\n",
    "embarked_in_cherbourg= df['Embarked'] == 'C'\n",
    "stats.pearsonr(x=df['Survived'], y=embarked_in_cherbourg)"
   ]
  },
  {
   "cell_type": "markdown",
   "metadata": {},
   "source": [
    "The correlation value is lower, but considering a significance level of 0.05 we can also conclude that the correlation between Embarked_in_Cherbourg and Survived is different than 0. When preparing the data for Machine Learning, we can use a OneVsRest or OneVsAll approach and convert this column into three different binary columns."
   ]
  },
  {
   "cell_type": "code",
   "execution_count": 27,
   "metadata": {
    "collapsed": false
   },
   "outputs": [
    {
     "data": {
      "text/plain": [
       "<seaborn.axisgrid.FacetGrid at 0x10ab538d0>"
      ]
     },
     "execution_count": 27,
     "metadata": {},
     "output_type": "execute_result"
    },
    {
     "data": {
      "image/png": "[encoded data removed]",
      "text/plain": [
       "<matplotlib.figure.Figure at 0x10aa25490>"
      ]
     },
     "metadata": {},
     "output_type": "display_data"
    }
   ],
   "source": [
    "sns.set(font_scale=1.0)\n",
    "sns.factorplot(data=df, x='Honorific', kind='count', hue='Survived', size=4)    "
   ]
  },
  {
   "cell_type": "markdown",
   "metadata": {
    "collapsed": true
   },
   "source": [
    "Here again we have relevant difference. Passengers with honorific of Mr. had lesser chance to survive than passengers with honorific Mrs. or Miss, confirming the observation made in the analysis of Sex variable. The additional information here is regarding the remaining honorifics - Master, for example, which precludes no particular gender, had a chance to survive much higher than the regular Mr. . This information is also valuable to a classifier algorithm and can be transformed using a OneVsRest approach"
   ]
  },
  {
   "cell_type": "markdown",
   "metadata": {},
   "source": [
    "## Analyzing variables with an algorithmic approach"
   ]
  },
  {
   "cell_type": "markdown",
   "metadata": {},
   "source": [
    "Another way to analyse the relevance of a variable is by using an algorithm approach, such as a decision tree or a logistic regression with L1 regularization. Considering Survived as the target variable, and the remaining features, let's build a decision tree to see which features have the greater impact in predicting the outcome. \n",
    "\n",
    "A seminal paper by Leo Breiman, who popularized Random Forest algorithms, argues in favor of using algorithmic approaches to analyse your data instead of trying to fit it into traditional data models that may not represent reality.\n",
    "\n",
    "Statistical Modelling: The Two Cultures -> https://projecteuclid.org/euclid.ss/1009213726"
   ]
  },
  {
   "cell_type": "markdown",
   "metadata": {},
   "source": [
    "We will use a Random Forest implemented in sklearn. A Random Forest is an ensemble approach that combines decision trees, using subsets of the data, to generate an optimal classifier. The scikit-learn implementation, in particular, \"combines classifiers by averaging their probabilistic prediction, instead of letting each classifier vote for a single class.\" (sci-kit learn docs)."
   ]
  },
  {
   "cell_type": "markdown",
   "metadata": {},
   "source": [
    "Before feeding the data into the classifer, let's filter out Name, which contains irrelevant information to the classifier since it is unique per observation, and convert categorical variables into dummy variables. At this point, I will remove variables Ticket, Surname and Cabin, for simplicity, since the number of categories would slow down the calculation. They might be relevant in future models to increase the accuracy of the predictor."
   ]
  },
  {
   "cell_type": "code",
   "execution_count": 28,
   "metadata": {
    "collapsed": false
   },
   "outputs": [
    {
     "data": {
      "text/plain": [
       "Age          float64\n",
       "Embarked      object\n",
       "Fare         float64\n",
       "Honorific     object\n",
       "Parch          int64\n",
       "Pclass         int64\n",
       "Sex           object\n",
       "SibSp          int64\n",
       "dtype: object"
      ]
     },
     "execution_count": 28,
     "metadata": {},
     "output_type": "execute_result"
    }
   ],
   "source": [
    "# selecting cols\n",
    "labels = df['Survived']\n",
    "feature_names = df.columns.difference(['Survived', 'Name', 'Ticket', 'Surname', 'Cabin', 'Cclass'])\n",
    "features = df[feature_names]\n",
    "features.dtypes"
   ]
  },
  {
   "cell_type": "code",
   "execution_count": 29,
   "metadata": {
    "collapsed": false
   },
   "outputs": [
    {
     "data": {
      "text/html": [
       "<div>\n",
       "<table border=\"1\" class=\"dataframe\">\n",
       "  <thead>\n",
       "    <tr style=\"text-align: right;\">\n",
       "      <th></th>\n",
       "      <th>Age</th>\n",
       "      <th>Fare</th>\n",
       "      <th>Parch</th>\n",
       "      <th>Pclass</th>\n",
       "      <th>SibSp</th>\n",
       "      <th>Embarked_C</th>\n",
       "      <th>Embarked_Q</th>\n",
       "      <th>Embarked_S</th>\n",
       "      <th>Sex_female</th>\n",
       "      <th>Sex_male</th>\n",
       "      <th>Honorific_Major</th>\n",
       "      <th>Honorific_Master</th>\n",
       "      <th>Honorific_Miss</th>\n",
       "      <th>Honorific_Mlle</th>\n",
       "      <th>Honorific_Mme</th>\n",
       "      <th>Honorific_Mr</th>\n",
       "      <th>Honorific_Mrs</th>\n",
       "      <th>Honorific_Ms</th>\n",
       "    </tr>\n",
       "    <tr>\n",
       "      <th>PassengerId</th>\n",
       "      <th></th>\n",
       "      <th></th>\n",
       "      <th></th>\n",
       "      <th></th>\n",
       "      <th></th>\n",
       "      <th></th>\n",
       "      <th></th>\n",
       "      <th></th>\n",
       "      <th></th>\n",
       "      <th></th>\n",
       "      <th></th>\n",
       "      <th></th>\n",
       "      <th></th>\n",
       "      <th></th>\n",
       "      <th></th>\n",
       "      <th></th>\n",
       "      <th></th>\n",
       "      <th></th>\n",
       "    </tr>\n",
       "  </thead>\n",
       "  <tbody>\n",
       "    <tr>\n",
       "      <th>1</th>\n",
       "      <td>22.0</td>\n",
       "      <td>7.2500</td>\n",
       "      <td>0</td>\n",
       "      <td>3</td>\n",
       "      <td>1</td>\n",
       "      <td>0.0</td>\n",
       "      <td>0.0</td>\n",
       "      <td>1.0</td>\n",
       "      <td>0.0</td>\n",
       "      <td>1.0</td>\n",
       "      <td>0.0</td>\n",
       "      <td>0.0</td>\n",
       "      <td>0.0</td>\n",
       "      <td>0.0</td>\n",
       "      <td>0.0</td>\n",
       "      <td>1.0</td>\n",
       "      <td>0.0</td>\n",
       "      <td>0.0</td>\n",
       "    </tr>\n",
       "    <tr>\n",
       "      <th>2</th>\n",
       "      <td>38.0</td>\n",
       "      <td>71.2833</td>\n",
       "      <td>0</td>\n",
       "      <td>1</td>\n",
       "      <td>1</td>\n",
       "      <td>1.0</td>\n",
       "      <td>0.0</td>\n",
       "      <td>0.0</td>\n",
       "      <td>1.0</td>\n",
       "      <td>0.0</td>\n",
       "      <td>0.0</td>\n",
       "      <td>0.0</td>\n",
       "      <td>0.0</td>\n",
       "      <td>0.0</td>\n",
       "      <td>0.0</td>\n",
       "      <td>0.0</td>\n",
       "      <td>1.0</td>\n",
       "      <td>0.0</td>\n",
       "    </tr>\n",
       "    <tr>\n",
       "      <th>3</th>\n",
       "      <td>26.0</td>\n",
       "      <td>7.9250</td>\n",
       "      <td>0</td>\n",
       "      <td>3</td>\n",
       "      <td>0</td>\n",
       "      <td>0.0</td>\n",
       "      <td>0.0</td>\n",
       "      <td>1.0</td>\n",
       "      <td>1.0</td>\n",
       "      <td>0.0</td>\n",
       "      <td>0.0</td>\n",
       "      <td>0.0</td>\n",
       "      <td>1.0</td>\n",
       "      <td>0.0</td>\n",
       "      <td>0.0</td>\n",
       "      <td>0.0</td>\n",
       "      <td>0.0</td>\n",
       "      <td>0.0</td>\n",
       "    </tr>\n",
       "    <tr>\n",
       "      <th>4</th>\n",
       "      <td>35.0</td>\n",
       "      <td>53.1000</td>\n",
       "      <td>0</td>\n",
       "      <td>1</td>\n",
       "      <td>1</td>\n",
       "      <td>0.0</td>\n",
       "      <td>0.0</td>\n",
       "      <td>1.0</td>\n",
       "      <td>1.0</td>\n",
       "      <td>0.0</td>\n",
       "      <td>0.0</td>\n",
       "      <td>0.0</td>\n",
       "      <td>0.0</td>\n",
       "      <td>0.0</td>\n",
       "      <td>0.0</td>\n",
       "      <td>0.0</td>\n",
       "      <td>1.0</td>\n",
       "      <td>0.0</td>\n",
       "    </tr>\n",
       "    <tr>\n",
       "      <th>5</th>\n",
       "      <td>35.0</td>\n",
       "      <td>8.0500</td>\n",
       "      <td>0</td>\n",
       "      <td>3</td>\n",
       "      <td>0</td>\n",
       "      <td>0.0</td>\n",
       "      <td>0.0</td>\n",
       "      <td>1.0</td>\n",
       "      <td>0.0</td>\n",
       "      <td>1.0</td>\n",
       "      <td>0.0</td>\n",
       "      <td>0.0</td>\n",
       "      <td>0.0</td>\n",
       "      <td>0.0</td>\n",
       "      <td>0.0</td>\n",
       "      <td>1.0</td>\n",
       "      <td>0.0</td>\n",
       "      <td>0.0</td>\n",
       "    </tr>\n",
       "  </tbody>\n",
       "</table>\n",
       "</div>"
      ],
      "text/plain": [
       "              Age     Fare  Parch  Pclass  SibSp  Embarked_C  Embarked_Q  \\\n",
       "PassengerId                                                                \n",
       "1            22.0   7.2500      0       3      1         0.0         0.0   \n",
       "2            38.0  71.2833      0       1      1         1.0         0.0   \n",
       "3            26.0   7.9250      0       3      0         0.0         0.0   \n",
       "4            35.0  53.1000      0       1      1         0.0         0.0   \n",
       "5            35.0   8.0500      0       3      0         0.0         0.0   \n",
       "\n",
       "             Embarked_S  Sex_female  Sex_male  Honorific_Major  \\\n",
       "PassengerId                                                      \n",
       "1                   1.0         0.0       1.0              0.0   \n",
       "2                   0.0         1.0       0.0              0.0   \n",
       "3                   1.0         1.0       0.0              0.0   \n",
       "4                   1.0         1.0       0.0              0.0   \n",
       "5                   1.0         0.0       1.0              0.0   \n",
       "\n",
       "             Honorific_Master  Honorific_Miss  Honorific_Mlle  Honorific_Mme  \\\n",
       "PassengerId                                                                    \n",
       "1                         0.0             0.0             0.0            0.0   \n",
       "2                         0.0             0.0             0.0            0.0   \n",
       "3                         0.0             1.0             0.0            0.0   \n",
       "4                         0.0             0.0             0.0            0.0   \n",
       "5                         0.0             0.0             0.0            0.0   \n",
       "\n",
       "             Honorific_Mr  Honorific_Mrs  Honorific_Ms  \n",
       "PassengerId                                             \n",
       "1                     1.0            0.0           0.0  \n",
       "2                     0.0            1.0           0.0  \n",
       "3                     0.0            0.0           0.0  \n",
       "4                     0.0            1.0           0.0  \n",
       "5                     1.0            0.0           0.0  "
      ]
     },
     "execution_count": 29,
     "metadata": {},
     "output_type": "execute_result"
    }
   ],
   "source": [
    "# convert categorical to dummy variables\n",
    "features = pd.get_dummies(features, columns=['Embarked', 'Sex', 'Honorific'])\n",
    "features.head()"
   ]
  },
  {
   "cell_type": "code",
   "execution_count": 30,
   "metadata": {
    "collapsed": false
   },
   "outputs": [
    {
     "data": {
      "text/plain": [
       "[('Fare', 0.24576830904627736),\n",
       " ('Age', 0.22589616444655972),\n",
       " ('Sex_male', 0.10666107946493127),\n",
       " ('Honorific_Mr', 0.095332294993600672),\n",
       " ('Pclass', 0.089666109682523171),\n",
       " ('Sex_female', 0.076738070831540731),\n",
       " ('SibSp', 0.060405340708653013),\n",
       " ('Parch', 0.032730642973964233),\n",
       " ('Honorific_Master', 0.015643351718632285),\n",
       " ('Honorific_Miss', 0.014124268762555126),\n",
       " ('Embarked_C', 0.010473773100123551),\n",
       " ('Honorific_Mrs', 0.0094129799294896659),\n",
       " ('Embarked_S', 0.0094045081008027245),\n",
       " ('Embarked_Q', 0.0071095927420749385),\n",
       " ('Honorific_Major', 0.00052713451015759896),\n",
       " ('Honorific_Mlle', 5.519537142623193e-05),\n",
       " ('Honorific_Ms', 5.1183616687733832e-05),\n",
       " ('Honorific_Mme', 0.0)]"
      ]
     },
     "execution_count": 30,
     "metadata": {},
     "output_type": "execute_result"
    }
   ],
   "source": [
    "# using full data, without split for test data, since decision tree is not being used as predictor \n",
    "# but only to analyse the relevance of each variable\n",
    "# not optimizing parameters as well\n",
    "updated_feature_names = [col for col in features.columns]\n",
    "\n",
    "from sklearn import ensemble\n",
    "clf = ensemble.RandomForestClassifier(n_estimators=20, random_state=49)\n",
    "clf.fit(features, labels)\n",
    "feature_importances = zip(updated_feature_names, clf.feature_importances_)\n",
    "sorted(feature_importances, key=lambda x:-x[1])"
   ]
  },
  {
   "cell_type": "markdown",
   "metadata": {},
   "source": [
    "In the result, we can see the features with greater relevance to determine if a passenger have survived or not are Fare, Age, and gender male (represented in Sex_male and Honorific_Mr). A lot of other variables also have considerable relevance, such as Passenger Class and Familiy members, and should not be discarded in predictive models. That answers ours 5th question regarding the impact of each variable on the passengers' chance of survival."
   ]
  },
  {
   "cell_type": "markdown",
   "metadata": {},
   "source": [
    "## Conclusion"
   ]
  },
  {
   "cell_type": "markdown",
   "metadata": {},
   "source": [
    "In this project, we aimed to analyse Titanic dataset using many different approaches of data analysis. The goal of the data exploration was not only to answer the previously stated questions, but also to enlarge the perspective and discover new relationships which were not foreseen. \n",
    "\n",
    "Along the project we have answered the questions raised, which are reproduced here:\n",
    "\n",
    "**What is the age distribution distribution of the passengers?**\n",
    "\n",
    "We can see that the mean age is 29 years old, with a standard deviation of 14 years, a min of 0.4 (around 5 months old) and a max of 80. Most of the passengers are between 20 and 40 yers old. \n",
    "\n",
    "**How many different families were on board?**\n",
    "\n",
    "Considering the dataset is complete, there were 667 different families onboard the Titanic.\n",
    "\n",
    "** Was there a predominance of single passengers or large families? **\n",
    "\n",
    "The histogram for siblings/spouses and parents/children shows that most passengers had no family on board\n",
    "\n",
    "** What was the average fare for each class? **\n",
    "\n",
    "The average fare for 2nd and 3rd class are not so different, confirming our observation from the scatterplots. The prices are also more concentrated around the mean. On the other hand, 1st class tickets have an average 4x timers higher than 2nd class tickets, with a considerable number of outliers ranging from \\$200 to over $500.\n",
    "\n",
    "** How does each variable impact on the chance of surviving? **\n",
    "\n",
    "The features with greater relevance to determine if a passenger have survived or not are Fare, Age, and gender male (represented in Sex_male and Honorific_Mr). A lot of other variables also have considerable relevance, such as Passenger Class and Familiy members, and should not be discarded in predictive models\n",
    "\n",
    "\n",
    "The results presented are by no mean statistically significant, and only indicate tentative findings, hence should be taken at their face value. A deeper statistical approach could be conducted to find the answer with the rigour that scientific endeavors requires.\n",
    "\n",
    "Future reports can analyse deeper into some of the variables to gain more insight. One example is how the position of each cabin in the ship correlates with the chance of survival. We can also analyse the families composition, and verify if men that belonged to large families composed mostly by women had more or less chance to survive than passengers who were single. We can also infer nationality by family name and port of embarkation and see whether it had any impact on the passenger chance of survival. "
   ]
  }
 ],
 "metadata": {
  "kernelspec": {
   "display_name": "Python 2",
   "language": "python",
   "name": "python2"
  },
  "language_info": {
   "codemirror_mode": {
    "name": "ipython",
    "version": 2
   },
   "file_extension": ".py",
   "mimetype": "text/x-python",
   "name": "python",
   "nbconvert_exporter": "python",
   "pygments_lexer": "ipython2",
   "version": "2.7.10"
  }
 },
 "nbformat": 4,
 "nbformat_minor": 0
}
