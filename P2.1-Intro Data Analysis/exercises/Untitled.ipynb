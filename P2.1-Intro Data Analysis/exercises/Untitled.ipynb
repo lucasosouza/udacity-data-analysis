{
 "cells": [
  {
   "cell_type": "markdown",
   "metadata": {},
   "source": [
    "### Gapminder Analysis"
   ]
  },
  {
   "cell_type": "code",
   "execution_count": 2,
   "metadata": {
    "collapsed": true
   },
   "outputs": [],
   "source": [
    "# Employment Levels\n",
    "# Life Expectancy\n",
    "# GDP\n",
    "# School Completions Rates\n",
    "\n",
    "# List 5 questions on these topics that you can answer with data\n",
    "\n",
    "# Is life expectancy and employment levels correlated?\n",
    "# Is school completion rate correlated with employment levels?\n",
    "# Is school completion rate correlated with life expectancy?\n",
    "# Is a country's GDP correlated with life expectancy?\n",
    "# What is the average school completion rate?"
   ]
  },
  {
   "cell_type": "code",
   "execution_count": null,
   "metadata": {
    "collapsed": true
   },
   "outputs": [],
   "source": []
  }
 ],
 "metadata": {
  "kernelspec": {
   "display_name": "Python 2",
   "language": "python",
   "name": "python2"
  },
  "language_info": {
   "codemirror_mode": {
    "name": "ipython",
    "version": 2
   },
   "file_extension": ".py",
   "mimetype": "text/x-python",
   "name": "python",
   "nbconvert_exporter": "python",
   "pygments_lexer": "ipython2",
   "version": "2.7.10"
  }
 },
 "nbformat": 4,
 "nbformat_minor": 0
}
