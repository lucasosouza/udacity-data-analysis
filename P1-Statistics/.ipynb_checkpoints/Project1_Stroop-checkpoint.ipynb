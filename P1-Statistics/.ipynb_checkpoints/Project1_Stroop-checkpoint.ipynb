{
 "cells": [
  {
   "cell_type": "markdown",
   "metadata": {},
   "source": [
    "#### Background information: \n",
    "In a Stroop task, participants are presented with a list of words, with each word displayed in a color of ink. The participant’s task is to say out loud the color of the ink in which the word is printed. The task has two conditions: a congruent words condition, and an incongruent words condition. In the congruent words condition, the words being displayed are color words whose names match the colors in which they are printed: for example RED, BLUE. In the incongruent words condition, the words displayed are color words whose names do not match the colors in which they are printed: for example PURPLE, ORANGE. In each case, we measure the time it takes to name the ink colors in equally-sized lists. Each participant will go through and record a time from each condition."
   ]
  },
  {
   "cell_type": "markdown",
   "metadata": {},
   "source": [
    "#### Questions for investigation:\n",
    "As a general note, be sure to keep a record of any resources that you use or refer to in the creation of your project. You will need to report your sources as part of the project submission.\n",
    "\n",
    "Now it’s your chance to try out the Stroop task for yourself. Go to this link, which has a Java-based applet for performing the Stroop task. Record the times that you received on the task (you do not need to submit your times to the site.) Now, download this dataset which contains results from a number of participants in the task. Each row of the dataset contains the performance for one participant, with the first number their results on the congruent task and the second number their performance on the incongruent task.\n",
    "\n",
    "Dataset: https://drive.google.com/file/d/0B9Yf01UaIbUgQXpYb2NhZ29yX1U/view\n",
    "Interactive Stroop Experiment: https://faculty.washington.edu/chudler/java/ready.html"
   ]
  },
  {
   "cell_type": "code",
   "execution_count": 14,
   "metadata": {
    "collapsed": false
   },
   "outputs": [
    {
     "name": "stdout",
     "output_type": "stream",
     "text": [
      "    Congruent  Incongruent\n",
      "0      12.079       19.278\n",
      "1      16.791       18.741\n",
      "2       9.564       21.214\n",
      "3       8.630       15.687\n",
      "4      14.669       22.803\n",
      "5      12.238       20.878\n",
      "6      14.692       24.572\n",
      "7       8.987       17.394\n",
      "8       9.401       20.762\n",
      "9      14.480       26.282\n",
      "10     22.328       24.524\n",
      "11     15.298       18.644\n",
      "12     15.073       17.510\n",
      "13     16.929       20.330\n",
      "14     18.200       35.255\n",
      "15     12.130       22.158\n",
      "16     18.495       25.139\n",
      "17     10.639       20.429\n",
      "18     11.344       17.425\n",
      "19     12.369       34.288\n",
      "20     12.944       23.894\n",
      "21     14.233       17.960\n",
      "22     19.710       22.058\n",
      "23     16.004       21.157\n"
     ]
    }
   ],
   "source": [
    "#import data and present it as table\n",
    "import pandas\n",
    "df = pandas.read_csv('stroopdata.csv')\n",
    "print df"
   ]
  },
  {
   "cell_type": "markdown",
   "metadata": {},
   "source": [
    "##### 1. What is our independent variable? What is our dependent variable?"
   ]
  },
  {
   "cell_type": "markdown",
   "metadata": {},
   "source": [
    "The independent variable is the treatment, that can be either congruent or incongruent (congruence between the ink color and the name of the color presented). The dependent variable is how many seconds it takes to name the ink colors in equally-sized lists."
   ]
  },
  {
   "cell_type": "markdown",
   "metadata": {},
   "source": [
    "##### 2. What is an appropriate set of hypotheses for this task? What kind of statistical test do you expect to perform? Justify your choices."
   ]
  },
  {
   "cell_type": "markdown",
   "metadata": {},
   "source": [
    "Considering it as a one tailed test, the null hypothesis is the average of seconds in the congruent treatment is equal or greater than the average of seconds in the incongruent treatment. \n",
    "\n",
    "The alternative hypothesis is the average of seconds in the congruent treatment is less than the average of the incongruent, meaning there is a statistical significance between the two averages. In other words, the alternative hypothesis is that it takes less time to read the list when the color's ink and name are congruent, than whey they are incongruent.\n",
    "\n",
    "We can also state (consider M as the symbol for the population average henceforth): \n",
    "\n",
    "H0: Mcongruent - Mincongruent >= 0\n",
    "\n",
    "Ha: Mcongruent - Mincongruent < 0\n",
    "\n",
    "A one tailed test is justified because we are not considering the hypothesis of incongruent average being less than congruent average. And since these are the same sample (within-subject design), we will execute a dependent t-test for paired samples. "
   ]
  },
  {
   "cell_type": "markdown",
   "metadata": {},
   "source": [
    "##### 3. Report some descriptive statistics regarding this dataset. Include at least one measure of central tendency and at least one measure of variability."
   ]
  },
  {
   "cell_type": "code",
   "execution_count": 15,
   "metadata": {
    "collapsed": false
   },
   "outputs": [
    {
     "data": {
      "text/html": [
       "<div>\n",
       "<table border=\"1\" class=\"dataframe\">\n",
       "  <thead>\n",
       "    <tr style=\"text-align: right;\">\n",
       "      <th></th>\n",
       "      <th>Congruent</th>\n",
       "      <th>Incongruent</th>\n",
       "      <th>Differences</th>\n",
       "    </tr>\n",
       "  </thead>\n",
       "  <tbody>\n",
       "    <tr>\n",
       "      <th>count</th>\n",
       "      <td>24.000000</td>\n",
       "      <td>24.000000</td>\n",
       "      <td>24.000000</td>\n",
       "    </tr>\n",
       "    <tr>\n",
       "      <th>mean</th>\n",
       "      <td>14.051125</td>\n",
       "      <td>22.015917</td>\n",
       "      <td>-7.964792</td>\n",
       "    </tr>\n",
       "    <tr>\n",
       "      <th>std</th>\n",
       "      <td>3.559358</td>\n",
       "      <td>4.797057</td>\n",
       "      <td>4.864827</td>\n",
       "    </tr>\n",
       "    <tr>\n",
       "      <th>min</th>\n",
       "      <td>8.630000</td>\n",
       "      <td>15.687000</td>\n",
       "      <td>-21.919000</td>\n",
       "    </tr>\n",
       "    <tr>\n",
       "      <th>25%</th>\n",
       "      <td>11.895250</td>\n",
       "      <td>18.716750</td>\n",
       "      <td>-10.258500</td>\n",
       "    </tr>\n",
       "    <tr>\n",
       "      <th>50%</th>\n",
       "      <td>14.356500</td>\n",
       "      <td>21.017500</td>\n",
       "      <td>-7.666500</td>\n",
       "    </tr>\n",
       "    <tr>\n",
       "      <th>75%</th>\n",
       "      <td>16.200750</td>\n",
       "      <td>24.051500</td>\n",
       "      <td>-3.645500</td>\n",
       "    </tr>\n",
       "    <tr>\n",
       "      <th>max</th>\n",
       "      <td>22.328000</td>\n",
       "      <td>35.255000</td>\n",
       "      <td>-1.950000</td>\n",
       "    </tr>\n",
       "  </tbody>\n",
       "</table>\n",
       "</div>"
      ],
      "text/plain": [
       "       Congruent  Incongruent  Differences\n",
       "count  24.000000    24.000000    24.000000\n",
       "mean   14.051125    22.015917    -7.964792\n",
       "std     3.559358     4.797057     4.864827\n",
       "min     8.630000    15.687000   -21.919000\n",
       "25%    11.895250    18.716750   -10.258500\n",
       "50%    14.356500    21.017500    -7.666500\n",
       "75%    16.200750    24.051500    -3.645500\n",
       "max    22.328000    35.255000    -1.950000"
      ]
     },
     "execution_count": 15,
     "metadata": {},
     "output_type": "execute_result"
    }
   ],
   "source": [
    "df['Differences'] = df['Congruent'] - df['Incongruent']\n",
    "df.describe()"
   ]
  },
  {
   "cell_type": "markdown",
   "metadata": {},
   "source": [
    "Above we are using a common function in pandas, describe, to present some basic descriptive statistics of the data, including measures of central tendency and measures of variability (the standard deviation is already normalized with bessel correction)."
   ]
  },
  {
   "cell_type": "markdown",
   "metadata": {},
   "source": [
    "##### 4. Provide one or two visualizations that show the distribution of the sample data. Write one or two sentences noting what you observe about the plot or plots."
   ]
  },
  {
   "cell_type": "code",
   "execution_count": 16,
   "metadata": {
    "collapsed": false
   },
   "outputs": [
    {
     "data": {
      "image/png": "[encoded data removed]",
      "text/plain": [
       "<matplotlib.figure.Figure at 0x10bc9ee90>"
      ]
     },
     "metadata": {},
     "output_type": "display_data"
    },
    {
     "name": "stdout",
     "output_type": "stream",
     "text": [
      "<ggplot: (280796709)>\n"
     ]
    }
   ],
   "source": [
    "%matplotlib inline\n",
    "from ggplot import *\n",
    "print ggplot(df, aes(x='Differences')) + geom_histogram(binwidth=2) + ggtitle('Histogram of Congruent-Incongruent')"
   ]
  },
  {
   "cell_type": "markdown",
   "metadata": {},
   "source": [
    "Although there a very few data to represent an histogram, the shape seems like a bimodal distribution, negatively skewed. The two modes are around -2.5 and -10."
   ]
  },
  {
   "cell_type": "code",
   "execution_count": 17,
   "metadata": {
    "collapsed": false
   },
   "outputs": [
    {
     "data": {
      "image/png": "[encoded data removed]",
      "text/plain": [
       "<matplotlib.figure.Figure at 0x10bc86810>"
      ]
     },
     "metadata": {},
     "output_type": "display_data"
    },
    {
     "name": "stdout",
     "output_type": "stream",
     "text": [
      "<ggplot: (281397981)>\n"
     ]
    }
   ],
   "source": [
    "#correlation graph -> looking for a trend\n",
    "print ggplot(df, aes(x='Congruent', y='Incongruent')) + ggtitle('Correlation') + geom_point() \\\n",
    "+ stat_smooth(colour='blue', span=0.8) + xlim(0,40) + ylim(0,40)"
   ]
  },
  {
   "cell_type": "markdown",
   "metadata": {},
   "source": [
    "Furthermore, let's analyse the dataset for each treatment. In the scatterplot above you can see the variables Congruent and Incongruent seem correlated. \n",
    "\n",
    "The graph shows a correlation between the time a person took to complete the Congruent dataset test and the Incongruent dataset test. That is expected. The trend is slightly upwards, meaning it appears to be not a fixed difference of time, rather exponential.\n",
    "\n",
    "By fixing the x and y limits, you can also see the differences in the range - the x-values (congruent) range mostly from 10 to 23 while the y-values(incongruent) range from 15 to 27. \n",
    "\n",
    "It is easier to spot the difference in the range in the boxplots below. They both have similar interquartile ranges, but the incongruent boxplot is about 7 units shifted to the right in the x-axis, which is consistent with the calculated average difference."
   ]
  },
  {
   "cell_type": "code",
   "execution_count": 18,
   "metadata": {
    "collapsed": false
   },
   "outputs": [
    {
     "data": {
      "image/png": "[encoded data removed]",
      "text/plain": [
       "<matplotlib.figure.Figure at 0x10bc86f90>"
      ]
     },
     "metadata": {},
     "output_type": "display_data"
    },
    {
     "name": "stdout",
     "output_type": "stream",
     "text": [
      "<ggplot: (281632861)>\n"
     ]
    },
    {
     "data": {
      "image/png": "[encoded data removed]",
      "text/plain": [
       "<matplotlib.figure.Figure at 0x10c22b850>"
      ]
     },
     "metadata": {},
     "output_type": "display_data"
    },
    {
     "name": "stdout",
     "output_type": "stream",
     "text": [
      "<ggplot: (281160453)>\n"
     ]
    }
   ],
   "source": [
    "print ggplot(df, aes(x='Congruent', y=0)) + geom_boxplot() + ggtitle('Boxplot for Congruent') + xlim(0,40)\n",
    "print ggplot(df, aes(x='Incongruent', y=0)) + geom_boxplot() + ggtitle('Boxplot for Incongruent') + xlim(0,40)"
   ]
  },
  {
   "cell_type": "markdown",
   "metadata": {},
   "source": [
    "##### 5. Now, perform the statistical test and report your results. What is your confidence level and your critical statistic value? Do you reject the null hypothesis or fail to reject it? Come to a conclusion in terms of the experiment task. Did the results match up with your expectations?"
   ]
  },
  {
   "cell_type": "code",
   "execution_count": 19,
   "metadata": {
    "collapsed": false
   },
   "outputs": [
    {
     "name": "stdout",
     "output_type": "stream",
     "text": [
      "Mean of the differences: -7.964792\n",
      "Standard deviation of the differences: 4.864827\n",
      "Standard error of the means: 0.993029\n",
      "t-value: -8.020707\n",
      "t-critical: -1.713872\n",
      "p: 0.00000002\n",
      "margin of error: 1.701924\n",
      "confidence interval: -9.666715, -6.262868\n",
      "r2: 0.736636\n",
      "Cohen's d: -1.637220\n"
     ]
    }
   ],
   "source": [
    "from scipy import stats\n",
    "import numpy as np\n",
    "\n",
    "#standard error calculation\n",
    "S = df['Differences'].std()\n",
    "X_diff = df['Differences'].mean()\n",
    "print 'Mean of the differences: %f' % X_diff\n",
    "print 'Standard deviation of the differences: %f' % S\n",
    "\n",
    "#already have X_diff and S, calculate t value\n",
    "n = df['Congruent'].count()\n",
    "degrees_of_freedom = n-1\n",
    "SEM = S/(n**.5)\n",
    "print \"Standard error of the means: %f\" % SEM\n",
    "t_value = X_diff/SEM\n",
    "print \"t-value: %f\" % t_value\n",
    "\n",
    "#get t critical\n",
    "confidence_level = 0.05\n",
    "t_critical = stats.t.ppf(confidence_level, degrees_of_freedom) \n",
    "print \"t-critical: %f\" % t_critical\n",
    "\n",
    "#calculate p\n",
    "p = stats.t.sf(np.abs(t_value), degrees_of_freedom)\n",
    "print \"p: %.8f\" % p\n",
    "\n",
    "#calculates margin of error and confidence interval\n",
    "margin_of_error = -t_critical * SEM\n",
    "print \"margin of error: %f\" % margin_of_error\n",
    "print \"confidence interval: %f, %f\" % (X_diff - margin_of_error, X_diff + margin_of_error)\n",
    "\n",
    "#calculates effect measures\n",
    "r2  = t_value**2/(t_value**2+degrees_of_freedom)\n",
    "cohens_d = float(X_diff)/S\n",
    "print \"r2: %f\" % r2\n",
    "print \"Cohen's d: %f\" % cohens_d\n"
   ]
  },
  {
   "cell_type": "markdown",
   "metadata": {},
   "source": [
    "The test shows that the t statistics is a lot higher than the critical statistic value, meaning t-value > t-critical and hence p < 0.05. The probability of the two distributions averages being equal or the congruent average being greater than the incongruent average is 2e-8, negligible.\n",
    "\n",
    "Therefore we can reject the null hypothesis. There is evidence to support that the average of Congruent treatment is less than the average of the Incongruent treatment, in the overall population. With p < 0.05, or 95% confidence level, we can state the average difference between Congruent and Incongruent treatment is between -9.667 and -6.263.\n",
    "\n",
    "The results are as expected from observing the data samples and the visualizations generated in the previous topic. The effect measure r2 shows that 73.66% of the difference between the Congruent and Incongruent means can be explained by the diference in the treatment. The Cohen's d measure shows that difference is about -1.63 in units of standard deviation."
   ]
  },
  {
   "cell_type": "markdown",
   "metadata": {},
   "source": [
    "##### 6. Optional: What do you think is responsible for the effects observed? Can you think of an alternative or similar task that would result in a similar effect? Some research about the problem will be helpful for thinking about these two questions!"
   ]
  },
  {
   "cell_type": "markdown",
   "metadata": {},
   "source": [
    "The Stroop effect represents a classical cognitive dissonance effect, which is the effect that happens when two cognitions contradict one another. Your visual cortex conveys that the color represented is X, while your language interpretation understands the color is Y. This cognitive dissonance is the reason why it takes on average between 0.25 and 0.35 seconds more per word to resolve this dissonance and interpret the actual ink color. "
   ]
  }
 ],
 "metadata": {
  "kernelspec": {
   "display_name": "Python 2",
   "language": "python",
   "name": "python2"
  },
  "language_info": {
   "codemirror_mode": {
    "name": "ipython",
    "version": 2
   },
   "file_extension": ".py",
   "mimetype": "text/x-python",
   "name": "python",
   "nbconvert_exporter": "python",
   "pygments_lexer": "ipython2",
   "version": "2.7.10"
  }
 },
 "nbformat": 4,
 "nbformat_minor": 0
}
